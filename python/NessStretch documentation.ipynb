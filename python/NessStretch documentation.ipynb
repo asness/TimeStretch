{
 "cells": [
  {
   "cell_type": "markdown",
   "metadata": {
    "toc": true
   },
   "source": [
    "<h1>Table of Contents<span class=\"tocSkip\"></span></h1>\n",
    "<div class=\"toc\"><ul class=\"toc-item\"><li><span><a href=\"#Abstract\" data-toc-modified-id=\"Abstract-1\"><span class=\"toc-item-num\">1&nbsp;&nbsp;</span>Abstract</a></span></li><li><span><a href=\"#Documentation\" data-toc-modified-id=\"Documentation-2\"><span class=\"toc-item-num\">2&nbsp;&nbsp;</span>Documentation</a></span><ul class=\"toc-item\"><li><span><a href=\"#Multiband-FFT\" data-toc-modified-id=\"Multiband-FFT-2.1\"><span class=\"toc-item-num\">2.1&nbsp;&nbsp;</span>Multiband FFT</a></span></li><li><span><a href=\"#Windowing\" data-toc-modified-id=\"Windowing-2.2\"><span class=\"toc-item-num\">2.2&nbsp;&nbsp;</span>Windowing</a></span></li><li><span><a href=\"#Implementation\" data-toc-modified-id=\"Implementation-2.3\"><span class=\"toc-item-num\">2.3&nbsp;&nbsp;</span>Implementation</a></span></li></ul></li><li><span><a href=\"#Examples\" data-toc-modified-id=\"Examples-3\"><span class=\"toc-item-num\">3&nbsp;&nbsp;</span>Examples</a></span><ul class=\"toc-item\"><li><span><a href=\"#Version-0.1-(multiband-FFT,-conventional-windowing)\" data-toc-modified-id=\"Version-0.1-(multiband-FFT,-conventional-windowing)-3.1\"><span class=\"toc-item-num\">3.1&nbsp;&nbsp;</span>Version 0.1 (multiband FFT, conventional windowing)</a></span></li></ul></li></ul></div>"
   ]
  },
  {
   "cell_type": "markdown",
   "metadata": {},
   "source": [
    "# Abstract\n",
    "\n",
    "The NessStretch is a refinement of [Paul Nasca](http://www.paulnasca.com/)'s excellent [PaulStretch](http://hypermammut.sourceforge.net/paulstretch/) algorithm, with two major changes:\n",
    "\n",
    "1. Whereas PaulStretch uses a single FFT frame size throughout the entire frequency range, the NessStretch supports a multiband FFT stretch.  This dramatically improves the stretch clarity in the higher register.\n",
    "2. PaulStretch uses a conventional analysis-synthesis window pair.  (The window choice itself, though unconventional, is essentially the square root of a COLA-compliant window, [following custom](https://ccrma.stanford.edu/~jos/sasp/COLA_Examples.html).).  The NessStretch supports variable crossfades between frames based on frame correlation, as specified [here](https://www.researchgate.net/publication/307994109_SIGNAL-MATCHED_POWER-COMPLEMENTARY_CROSS-FADING_AND_DRY-WET_MIXING)."
   ]
  },
  {
   "cell_type": "markdown",
   "metadata": {},
   "source": [
    "# Documentation\n",
    "\n",
    "TODO: I'll update this after Sam and I work more on the 2021 ICMC paper.\n",
    "\n",
    "## Multiband FFT\n",
    "\n",
    "## Windowing"
   ]
  },
  {
   "cell_type": "markdown",
   "metadata": {},
   "source": [
    "## Implementation\n",
    "\n",
    "The NessStretch implementation is *somewhat* similar to the PaulStretch stereo Python implementation:\n",
    "\n",
    "* Both implementations generate timestretch frames by stepping through the input sample array more slowly (by the timestretch factor) than the output sample array.  This creates de facto spectral interpolation.\n",
    "* Both scramble the frequency bin phases in some way.\n",
    "* Both use an [RFFT](https://numpy.org/doc/stable/reference/generated/numpy.fft.rfft.html) to optimize analysis and synthesis for real-valued input and output.\n",
    "\n",
    "There are, however, a couple implementation differences that are not purely cosmetic:\n",
    "\n",
    "* PaulStretch writes synthesis frames to a buffer, and the buffer content is appended to an output audio file.  This is efficient (there's no need for large intermediate files), but the buffer math is a bit of a headache, and there's no simple way to mix different output layers together.  Instead, NessStretch loads a large mix_bus array for each channel, to which it adds the output from each time-stretched frequency band.  Unless PaulStretch, this generates some large intermediate files (roughly 10 MB per channel per minute), but the process is more transparent, and mixing the frequency bands together is trivial.\n",
    "*  PaulStretch doesn't normalize the output audio (which makes sense, because there's no simple way to normalize an audio file \"in real time\"; you would have to use some sort of dynamics processing).  NessStretch normalizes the maximum output to the maximum input (all  the audio data is stored in arrays ahead of time, so this is easy to do).\n",
    "\n",
    "Some miscellaneous script details that may not be obvious:\n",
    "\n",
    "* RFFT bins: an RFFT returns nfft // 2 + 1 bins total.  Bin 0 is the DC component (0 Hz), and bin nfft // 2 is the Nyquist component (sampling rate / 2 Hz).\n",
    "* Input file padding: pad the input audio with nfft // 2 samples on either end to center the analysis windows correctly.  (It's easy to check this by time-stretching an impulse signal: the output should sound like a symmetrical filter sweep.)"
   ]
  },
  {
   "cell_type": "markdown",
   "metadata": {},
   "source": [
    "# Examples\n",
    "\n",
    "## Version 0.1 (multiband FFT, conventional windowing)\n",
    "\n",
    "* Alex Ness\n",
    "  * [You stay on my mind before I wake up](https://alexness.bandcamp.com/album/you-stay-on-my-mind-before-i-wake-up)\n",
    "  * [Puspawarna (Color of Flowers)](https://alexness.bandcamp.com/album/puspawarna-color-of-flowers)\n",
    "  * [The Secret Place](https://alexness.bandcamp.com/album/the-secret-place)\n",
    "  * [A Wasteland of Savage and Bitter Creatures](https://alexness.bandcamp.com/album/a-wasteland-of-savage-and-bitter-creatures)\n",
    "  * [Build This Love](https://alexness.bandcamp.com/album/build-this-love)\n",
    "  * [Domglocken](https://alexness.bandcamp.com/album/domglocken)\n",
    "* Jem Violet\n",
    "  * [Healing Takes Time But It's An Hour Long](https://jemviolet.bandcamp.com/track/healing-takes-time-but-its-an-hour-long)\n"
   ]
  }
 ],
 "metadata": {
  "kernelspec": {
   "display_name": "Python 3",
   "language": "python",
   "name": "python3"
  },
  "language_info": {
   "codemirror_mode": {
    "name": "ipython",
    "version": 3
   },
   "file_extension": ".py",
   "mimetype": "text/x-python",
   "name": "python",
   "nbconvert_exporter": "python",
   "pygments_lexer": "ipython3",
   "version": "3.9.1"
  },
  "latex_envs": {
   "LaTeX_envs_menu_present": true,
   "autoclose": false,
   "autocomplete": true,
   "bibliofile": "biblio.bib",
   "cite_by": "apalike",
   "current_citInitial": 1,
   "eqLabelWithNumbers": true,
   "eqNumInitial": 1,
   "hotkeys": {
    "equation": "Ctrl-E",
    "itemize": "Ctrl-I"
   },
   "labels_anchors": false,
   "latex_user_defs": false,
   "report_style_numbering": false,
   "user_envs_cfg": false
  },
  "toc": {
   "base_numbering": 1,
   "nav_menu": {},
   "number_sections": true,
   "sideBar": true,
   "skip_h1_title": false,
   "title_cell": "Table of Contents",
   "title_sidebar": "Contents",
   "toc_cell": true,
   "toc_position": {},
   "toc_section_display": true,
   "toc_window_display": true
  },
  "varInspector": {
   "cols": {
    "lenName": 16,
    "lenType": 16,
    "lenVar": 40
   },
   "kernels_config": {
    "python": {
     "delete_cmd_postfix": "",
     "delete_cmd_prefix": "del ",
     "library": "var_list.py",
     "varRefreshCmd": "print(var_dic_list())"
    },
    "r": {
     "delete_cmd_postfix": ") ",
     "delete_cmd_prefix": "rm(",
     "library": "var_list.r",
     "varRefreshCmd": "cat(var_dic_list()) "
    }
   },
   "types_to_exclude": [
    "module",
    "function",
    "builtin_function_or_method",
    "instance",
    "_Feature"
   ],
   "window_display": false
  }
 },
 "nbformat": 4,
 "nbformat_minor": 2
}
